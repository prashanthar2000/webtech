{
 "cells": [
  {
   "cell_type": "code",
   "execution_count": 2,
   "metadata": {
    "collapsed": true
   },
   "outputs": [],
   "source": [
    "from bs4 import BeautifulSoup\n",
    "import requests\n",
    "import re\n",
    "import os"
   ]
  },
  {
   "cell_type": "code",
   "execution_count": 1,
   "metadata": {},
   "outputs": [
    {
     "ename": "NameError",
     "evalue": "name 'requests' is not defined",
     "output_type": "error",
     "traceback": [
      "\u001b[0;31m---------------------------------------------------------------------------\u001b[0m",
      "\u001b[0;31mNameError\u001b[0m                                 Traceback (most recent call last)",
      "\u001b[0;32m<ipython-input-1-a677914393ed>\u001b[0m in \u001b[0;36m<module>\u001b[0;34m()\u001b[0m\n\u001b[1;32m      1\u001b[0m \u001b[0murl\u001b[0m\u001b[0;34m=\u001b[0m\u001b[0;34m\"https://www.carwale.com\"\u001b[0m\u001b[0;34m\u001b[0m\u001b[0m\n\u001b[0;32m----> 2\u001b[0;31m \u001b[0mresponse\u001b[0m \u001b[0;34m=\u001b[0m \u001b[0mrequests\u001b[0m\u001b[0;34m.\u001b[0m\u001b[0mget\u001b[0m\u001b[0;34m(\u001b[0m\u001b[0murl\u001b[0m\u001b[0;34m)\u001b[0m\u001b[0;34m\u001b[0m\u001b[0m\n\u001b[0m",
      "\u001b[0;31mNameError\u001b[0m: name 'requests' is not defined"
     ]
    }
   ],
   "source": [
    "url=\"https://www.carwale.com\"\n",
    "response = requests.get(url)"
   ]
  },
  {
   "cell_type": "code",
   "execution_count": 4,
   "metadata": {
    "collapsed": true
   },
   "outputs": [],
   "source": [
    "soup = BeautifulSoup(response.content,\"html.parser\")\n",
    "brand_type = soup.find(id=\"brand-type\")\n",
    "\n",
    "brand_type=brand_type.ul.find_all(\"li\")"
   ]
  },
  {
   "cell_type": "code",
   "execution_count": 5,
   "metadata": {},
   "outputs": [
    {
     "data": {
      "text/plain": [
       "<a href=\"/hyundai-cars/\"><span class=\"brand-type-title\">Hyundai</span></a>"
      ]
     },
     "execution_count": 5,
     "metadata": {},
     "output_type": "execute_result"
    }
   ],
   "source": [
    "brand=brand_type[1].a\n",
    "brand"
   ]
  },
  {
   "cell_type": "code",
   "execution_count": 6,
   "metadata": {},
   "outputs": [
    {
     "data": {
      "text/plain": [
       "'/hyundai-cars/'"
      ]
     },
     "execution_count": 6,
     "metadata": {},
     "output_type": "execute_result"
    }
   ],
   "source": [
    "m= re.search(r'<a href=\"(\\S+)\"',str(brand))\n",
    "m.group(1)"
   ]
  },
  {
   "cell_type": "code",
   "execution_count": 157,
   "metadata": {
    "collapsed": true
   },
   "outputs": [],
   "source": [
    "f=open(\"/home/arch/project/car_url.txt\",\"w+\")\n",
    "for i in brand_type:\n",
    "    i.a\n",
    "    m= re.search(r'<a href=\"(\\S+)\"',str(i.a))\n",
    "    print(url+m.group(1),file=f)\n",
    "    \n",
    "f.close()\n",
    "    \n",
    "    "
   ]
  },
  {
   "cell_type": "code",
   "execution_count": 73,
   "metadata": {
    "collapsed": true
   },
   "outputs": [],
   "source": [
    "f=open(\"/home/arch/project/car_url.txt\",\"r\")\n",
    "url=[]\n",
    "for i in f.readlines():\n",
    "    url.append(i[:-1])\n",
    "    \n",
    "#url"
   ]
  },
  {
   "cell_type": "code",
   "execution_count": 21,
   "metadata": {
    "collapsed": true
   },
   "outputs": [],
   "source": [
    "response = requests.get(url[0])\n",
    "soup = BeautifulSoup(response.content,\"html.parser\")\n"
   ]
  },
  {
   "cell_type": "code",
   "execution_count": 74,
   "metadata": {
    "collapsed": true
   },
   "outputs": [],
   "source": [
    "model_name = soup.findAll(\"strong\",{\"class\":\"text-unbold\"})\n",
    "#model_name"
   ]
  },
  {
   "cell_type": "code",
   "execution_count": 72,
   "metadata": {
    "collapsed": true
   },
   "outputs": [],
   "source": [
    "f = open(\"/home/arch/project/model_name_url.txt\",\"w+\")\n",
    "\n",
    "for i  in range(len(model_name)):\n",
    "    temp = str(model_name[i].text)\n",
    "    var = temp.split(\" \",2)[2].lower()\n",
    "    new_list=var.split()\n",
    "    s = \"-\"\n",
    "    s = s.join(new_list)\n",
    "    #model_name_url.append(url[0]+ var)\n",
    "    print(url[0]+ s+\"/\",file = f)\n",
    "    \n",
    "f.close()\n"
   ]
  },
  {
   "cell_type": "code",
   "execution_count": 124,
   "metadata": {
    "collapsed": true
   },
   "outputs": [],
   "source": [
    "f=open(\"/home/arch/project/model_name_url.txt\",\"r\")\n",
    "model_name_url=[]\n",
    "for i in f.readlines():\n",
    "    model_name_url.append(i[:-1])\n",
    "#model_name_url"
   ]
  },
  {
   "cell_type": "code",
   "execution_count": 80,
   "metadata": {
    "collapsed": true
   },
   "outputs": [],
   "source": [
    "response = requests.get(model_name_url[1])\n",
    "soup = BeautifulSoup(response.content,\"html.parser\")"
   ]
  },
  {
   "cell_type": "code",
   "execution_count": 122,
   "metadata": {},
   "outputs": [
    {
     "data": {
      "text/plain": [
       "<tr><th class=\"variant-table__col-heading\">Variants</th><th class=\"variant-table__col-heading\">Avg. Ex-Showroom price</th></tr>"
      ]
     },
     "execution_count": 122,
     "metadata": {},
     "output_type": "execute_result"
    }
   ],
   "source": [
    "s_press={}\n",
    "specs = soup.findAll(\"tr\",{\"class\":\"\"})\n",
    "specs[6]\n"
   ]
  },
  {
   "cell_type": "markdown",
   "metadata": {},
   "source": [
    "for i in specs:\n",
    "    print(i.td)\n"
   ]
  },
  {
   "cell_type": "code",
   "execution_count": 112,
   "metadata": {},
   "outputs": [
    {
     "data": {
      "text/plain": [
       "{'Engine': ' 998 to 1248 cc',\n",
       " 'FuelType': ' Petrol and Diesel',\n",
       " 'Mileage': ' 19.56 to 27.39 kmpl',\n",
       " 'Price': 'Rs. 5.67 Lakhs onwards',\n",
       " 'Seating Capacity': ' 5',\n",
       " 'Transmission': ' Manual and Automatic (CVT)'}"
      ]
     },
     "execution_count": 112,
     "metadata": {},
     "output_type": "execute_result"
    }
   ],
   "source": [
    "for i in range(5):\n",
    "    \n",
    "    s_press[specs[i].th.text]= specs[i].td.span.text\n",
    "s_press"
   ]
  },
  {
   "cell_type": "code",
   "execution_count": 123,
   "metadata": {
    "collapsed": true
   },
   "outputs": [],
   "source": [
    "f=open(\"/home/arch/project/s-press_gen.txt\",\"w+\")\n",
    "print(s_press,file = f)\n",
    "f.close()\n"
   ]
  },
  {
   "cell_type": "code",
   "execution_count": 144,
   "metadata": {},
   "outputs": [
    {
     "data": {
      "text/plain": [
       "'/marutisuzuki-cars/baleno/sigma12/'"
      ]
     },
     "execution_count": 144,
     "metadata": {},
     "output_type": "execute_result"
    }
   ],
   "source": [
    "varient = soup.findAll(\"div\",{\"class\":\"variant__name\"})\n",
    "varient[0].a\n",
    "m= re.search(r'<a href=\"(\\S+)\"',str(varient[0].a))\n",
    "m.group(1)"
   ]
  },
  {
   "cell_type": "code",
   "execution_count": 299,
   "metadata": {},
   "outputs": [
    {
     "data": {
      "text/plain": [
       "{'Alpha 1.2 ': 'https://www.carwale.com/marutisuzuki-cars/baleno/alpha12/',\n",
       " 'Alpha 1.2 AT ': 'https://www.carwale.com/marutisuzuki-cars/baleno/alpha12at/',\n",
       " 'Alpha 1.3 ': 'https://www.carwale.com/marutisuzuki-cars/baleno/alpha13/',\n",
       " 'Delta 1.2 ': 'https://www.carwale.com/marutisuzuki-cars/baleno/delta12/',\n",
       " 'Delta 1.2 AT ': 'https://www.carwale.com/marutisuzuki-cars/baleno/delta12at/',\n",
       " 'Delta 1.2 Dualjet ': 'https://www.carwale.com/marutisuzuki-cars/baleno/delta12dualjet/',\n",
       " 'Delta 1.3 ': 'https://www.carwale.com/marutisuzuki-cars/baleno/delta13/',\n",
       " 'RS ': 'https://www.carwale.com/marutisuzuki-cars/baleno/rs/',\n",
       " 'Sigma 1.2 ': 'https://www.carwale.com/marutisuzuki-cars/baleno/sigma12/',\n",
       " 'Sigma 1.3 ': 'https://www.carwale.com/marutisuzuki-cars/baleno/sigma13/',\n",
       " 'Zeta 1.2 ': 'https://www.carwale.com/marutisuzuki-cars/baleno/zeta12/',\n",
       " 'Zeta 1.2 AT ': 'https://www.carwale.com/marutisuzuki-cars/baleno/zeta12at/',\n",
       " 'Zeta 1.2 Dualjet ': 'https://www.carwale.com/marutisuzuki-cars/baleno/zeta12dualjet/',\n",
       " 'Zeta 1.3 ': 'https://www.carwale.com/marutisuzuki-cars/baleno/zeta13/'}"
      ]
     },
     "execution_count": 299,
     "metadata": {},
     "output_type": "execute_result"
    }
   ],
   "source": [
    "varients_url = {}\n",
    "for i in range(len(varient)):\n",
    "    m= re.search(r'<a href=\"(\\S+)\"',str(varient[i].a))\n",
    "    varients_url[varient[i].a.text]= \"https://www.carwale.com\"+ m.group(1)\n",
    "#f=open(\"/home/arch/project/varients_url.txt\",\"w+\")\n",
    "#print(varients_url,file = f)\n",
    "brand_type_version_url = list(varients_url.values())\n",
    "brand_type_version_url\n",
    "varients_url"
   ]
  },
  {
   "cell_type": "code",
   "execution_count": 166,
   "metadata": {
    "collapsed": true
   },
   "outputs": [],
   "source": [
    "def mkdir(relative_path):\n",
    "    try:\n",
    "        os.mkdir(\"/home/arch/project/\"+relative_path)\n",
    "    except FileExistsError:\n",
    "        pass#print(\"already exits\")\n",
    "    except FileNotFoundError:\n",
    "        print(\"check path of directory again\")\n",
    "\n",
    "def open_file(file_name,mode,relative_path=\"/home/arch/project/\"):\n",
    "    f=open(relative_path+file_name,mode)\n",
    "    return f\n"
   ]
  },
  {
   "cell_type": "code",
   "execution_count": 168,
   "metadata": {
    "collapsed": true
   },
   "outputs": [],
   "source": [
    "response = requests.get('https://www.carwale.com/marutisuzuki-cars/baleno/alpha12/')\n",
    "soup = BeautifulSoup(response.content,\"html.parser\")"
   ]
  },
  {
   "cell_type": "code",
   "execution_count": 273,
   "metadata": {},
   "outputs": [
    {
     "data": {
      "text/plain": [
       "{'key Specifications': {'Engine': ' 1197 cc',\n",
       "  'FuelType': ' Petrol',\n",
       "  'Mileage': ' 21.01 kmpl',\n",
       "  'Price': 'Rs. 7.67 Lakhs',\n",
       "  'Transmission': ' Manual'}}"
      ]
     },
     "execution_count": 273,
     "metadata": {},
     "output_type": "execute_result"
    }
   ],
   "source": [
    "def gen_data(soup):\n",
    "    temp={}\n",
    "    specs = soup.findAll(\"tr\",{\"class\":\"\"})\n",
    "    for i in range(5):\n",
    "        temp[specs[i].th.text]= specs[i].td.span.text\n",
    "    return temp\n",
    "temp = gen_data(soup)\n",
    "modelName={\"key Specifications\":gen_data(soup)}\n",
    "modelName"
   ]
  },
  {
   "cell_type": "code",
   "execution_count": 206,
   "metadata": {},
   "outputs": [
    {
     "data": {
      "text/plain": [
       "'1197cc, 4 Cylinders Inline, 4 Valves/Cylinder, DOHC '"
      ]
     },
     "execution_count": 206,
     "metadata": {},
     "output_type": "execute_result"
    }
   ],
   "source": [
    "specs= soup.findAll(\"table\",{\"class\":\"specs\"})\n",
    "specs[0].th.text\n",
    "specs_tr=specs[0].findAll(\"tr\")\n",
    "specs_td=specs_tr[0].findAll(\"td\")\n",
    "specs_td[1].text"
   ]
  },
  {
   "cell_type": "code",
   "execution_count": 263,
   "metadata": {
    "collapsed": true
   },
   "outputs": [],
   "source": [
    "specifications={}\n",
    "for i in range(4):\n",
    "    specs_tr=specs[i].findAll(\"tr\")\n",
    "    temp={}\n",
    "    for j in range(len(specs_tr)):\n",
    "        specs_td=specs_tr[j].findAll(\"td\")\n",
    "        temp[specs_td[0].text]=specs_td[1].text\n",
    "                \n",
    "            \n",
    "    \n",
    "    \n",
    "    specifications[specs[i].th.text]=temp\n",
    "#specifications"
   ]
  },
  {
   "cell_type": "code",
   "execution_count": 257,
   "metadata": {},
   "outputs": [
    {
     "data": {
      "text/plain": [
       "<td>2 (Driver &amp; Co-Driver)  </td>"
      ]
     },
     "execution_count": 257,
     "metadata": {},
     "output_type": "execute_result"
    }
   ],
   "source": [
    "specs_tr=specs[4].findAll(\"tr\")\n",
    "specs_tr[0].text  #features\n",
    "specs_tr[1].td  #type\n",
    "specs_td = specs_tr[1].findAll(\"td\")\n",
    "specs_td[1]"
   ]
  },
  {
   "cell_type": "code",
   "execution_count": 262,
   "metadata": {
    "collapsed": true
   },
   "outputs": [],
   "source": [
    "features={}\n",
    "list(range(4,len(specs)))\n",
    "for i in range(4,len(specs)):\n",
    "    temp={}\n",
    "    specs_tr=specs[i].findAll(\"tr\")\n",
    "    for j in range(1,len(specs_tr)):\n",
    "        specs_td = specs_tr[j].findAll(\"td\")\n",
    "        temp[specs_td[0].text]=specs_td[1].text\n",
    "    features[specs_tr[0].text]=temp\n",
    "#features"
   ]
  },
  {
   "cell_type": "code",
   "execution_count": 276,
   "metadata": {
    "collapsed": true
   },
   "outputs": [],
   "source": [
    "def scrape_spec_features(specs):\n",
    "    final={}\n",
    "    specifications={}\n",
    "    for i in range(4):\n",
    "        specs_tr=specs[i].findAll(\"tr\")\n",
    "        temp={}\n",
    "        for j in range(len(specs_tr)):\n",
    "            specs_td=specs_tr[j].findAll(\"td\")\n",
    "            temp[specs_td[0].text]=specs_td[1].text\n",
    "        specifications[specs[i].th.text]=temp\n",
    "    features={}\n",
    "    list(range(4,len(specs)))\n",
    "    for i in range(4,len(specs)):\n",
    "        temp={}\n",
    "        specs_tr=specs[i].findAll(\"tr\")\n",
    "        for j in range(1,len(specs_tr)):\n",
    "            specs_td = specs_tr[j].findAll(\"td\")\n",
    "            temp[specs_td[0].text]=specs_td[1].text\n",
    "        features[specs_tr[0].text]=temp\n",
    "        \n",
    "    final[\"spec\"]=specifications\n",
    "    final[\"fea\"]=features\n",
    "    return final\n",
    "final = scrape_spec_features(specs)\n",
    "#final"
   ]
  },
  {
   "cell_type": "code",
   "execution_count": 284,
   "metadata": {},
   "outputs": [
    {
     "data": {
      "text/plain": [
       "{'Engine': ' 1197 cc',\n",
       " 'FuelType': ' Petrol',\n",
       " 'Mileage': ' 21.01 kmpl',\n",
       " 'Price': 'Rs. 7.67 Lakhs',\n",
       " 'Transmission': ' Manual'}"
      ]
     },
     "execution_count": 284,
     "metadata": {},
     "output_type": "execute_result"
    }
   ],
   "source": [
    "def one_car(url):\n",
    "    response = requests.get(url)\n",
    "    soup = BeautifulSoup(response.content,\"html.parser\")\n",
    "    gen_key_spec = {\"key Specifications\":gen_data(soup)} #getting key specifications\n",
    "    detailed_spec = scrape_spec_features(specs) #detailed specifications\n",
    "    #return (gen_key_spec.update(detailed_spec))\n",
    "    res = {**gen_key_spec, **detailed_spec} \n",
    "    return res \n",
    "test = one_car('https://www.carwale.com/marutisuzuki-cars/baleno/alpha12/')\n",
    "#test[\"key Specifications\"]"
   ]
  },
  {
   "cell_type": "code",
   "execution_count": 288,
   "metadata": {
    "collapsed": true
   },
   "outputs": [],
   "source": [
    "#test[\"fea\"]"
   ]
  },
  {
   "cell_type": "code",
   "execution_count": 296,
   "metadata": {
    "collapsed": true
   },
   "outputs": [],
   "source": [
    "def one_brand(varients_url):\n",
    "    all_brand={}\n",
    "    brand_type_version_url = list(varients_url.values())\n",
    "    brand_names = list(varients_url.keys())\n",
    "    for i in range(len(brand_names)):\n",
    "        all_brand[brand_names[i]] = one_car(brand_type_version_url[i])\n",
    "    return all_brand\n",
    "all_brand = one_brand(varients_url)"
   ]
  },
  {
   "cell_type": "code",
   "execution_count": 298,
   "metadata": {
    "collapsed": true
   },
   "outputs": [],
   "source": [
    "f = open(\"/home/arch/project/all_brand.txt\",\"w+\")\n",
    "print(all_brand,file = f)"
   ]
  },
  {
   "cell_type": "code",
   "execution_count": null,
   "metadata": {
    "collapsed": true
   },
   "outputs": [],
   "source": [
    "def all_brand():\n",
    "    "
   ]
  }
 ],
 "metadata": {
  "kernelspec": {
   "display_name": "Python 3",
   "language": "python",
   "name": "python3"
  },
  "language_info": {
   "codemirror_mode": {
    "name": "ipython",
    "version": 3
   },
   "file_extension": ".py",
   "mimetype": "text/x-python",
   "name": "python",
   "nbconvert_exporter": "python",
   "pygments_lexer": "ipython3",
   "version": "3.6.2"
  }
 },
 "nbformat": 4,
 "nbformat_minor": 2
}
